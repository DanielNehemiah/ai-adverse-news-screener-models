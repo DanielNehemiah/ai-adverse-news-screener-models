{
 "cells": [
  {
   "cell_type": "code",
   "execution_count": 3,
   "id": "a24c2f8f",
   "metadata": {},
   "outputs": [],
   "source": [
    "import numpy as np\n",
    "import pandas as pd\n",
    "pd.options.display.max_colwidth = 10000\n",
    "pd.options.display.max_rows = 100\n",
    "pd.options.display.max_columns = 100"
   ]
  },
  {
   "cell_type": "code",
   "execution_count": 4,
   "id": "d5e3f4df",
   "metadata": {},
   "outputs": [],
   "source": [
    "from ai_news_analyzer import news_analyzer"
   ]
  },
  {
   "cell_type": "code",
   "execution_count": 5,
   "id": "cfa861d1",
   "metadata": {},
   "outputs": [
    {
     "data": {
      "text/plain": [
       "'Buenos Aires, Argentina: Assets belonging to former Argentine president Cristina Kirchner were frozen Friday after she was charged with damaging national finances by manipulating the Central Bank\\'s exchange operations during her last months in office. Federal Judge Claudio Bonadio said it was \"evident that the then president gave instructions -- which without a doubt were developed jointly -- to her economy minister to carry out the financial operation,\" according to a statement released on the Supreme Court\\'s website.\\n\\nBonadio ordered assets worth 15 million pesos\\' ($1 million) held by Kirchner to be frozen.\\n\\nHe delivered the same charge and asset freeze against Axel Kicillof, Kirchner\\'s minister of the economy from 2013 to 2015, and against former Central Bank president Alejandro Vanoli and 12 other former members of its board.\\n\\nKirchner, who held office from 2007 to 2015, is accused of having caused a loss in monetary authority through speculative dollar sales by the Central Bank at the end of 2015, just before the election of center-right President Mauricio Macri.\\n\\nAccording to the current government, which opposed Kirchner, the operation caused a loss of hundreds of millions of dollars to Latin America\\'s third-largest economy.\\n\\nKirchner\\'s defenders say that the issue cannot be taken to court as it concerns disagreements over monetary policy aimed at maintaining the value of the peso.\\n\\nOn December 16, just six days after taking office, Macri ordered measures that led to a 34-percent devaluation of the Argentine peso, resulting in an exchange rate of one dollar per 15 pesos.\\n\\nKirchner, 63, left office in December after two consecutive terms and is no longer protected by political immunity.\\n\\nThe leftist former leader appeared in court in mid-April, where she refused to answer questions and instead presented a document demanding Judge Bonadio\\'s dismissal.'"
      ]
     },
     "execution_count": 5,
     "metadata": {},
     "output_type": "execute_result"
    }
   ],
   "source": [
    "with open('Negnews.txt','r') as f:\n",
    "    text = f.read()\n",
    "text"
   ]
  },
  {
   "cell_type": "code",
   "execution_count": 6,
   "id": "a6acae4f",
   "metadata": {},
   "outputs": [
    {
     "data": {
      "text/html": [
       "<div>\n",
       "<style scoped>\n",
       "    .dataframe tbody tr th:only-of-type {\n",
       "        vertical-align: middle;\n",
       "    }\n",
       "\n",
       "    .dataframe tbody tr th {\n",
       "        vertical-align: top;\n",
       "    }\n",
       "\n",
       "    .dataframe thead th {\n",
       "        text-align: right;\n",
       "    }\n",
       "</style>\n",
       "<table border=\"1\" class=\"dataframe\">\n",
       "  <thead>\n",
       "    <tr style=\"text-align: right;\">\n",
       "      <th></th>\n",
       "      <th>sentences</th>\n",
       "      <th>entities</th>\n",
       "      <th>pos_neg_neu</th>\n",
       "    </tr>\n",
       "  </thead>\n",
       "  <tbody>\n",
       "    <tr>\n",
       "      <th>0</th>\n",
       "      <td>[Buenos Aires, Argentina: Assets belonging to former Argentine president Cristina Kirchner were frozen Friday after former Argentine president Cristina Kirchner was charged with damaging national finances by manipulating the Central Bank's exchange operations during former Argentine president Cristina Kirchner's last months in office., Federal Judge Claudio Bonadio ordered assets worth 15 million pesos' ($1 million) held by former Argentine president Cristina Kirchner to be frozen., Federal Judge Claudio Bonadio delivered the same charge and asset freeze against Axel Kicillof, former Argentine president Cristina Kirchner's minister of the economy from 2013 to 2015, and against former the Central Bank's president Alejandro Vanoli and 12 other former members of the Central Bank's's board., Kirchner, who held office from 2007 to 2015, is accused of having caused a loss in monetary authority through speculative dollar sales by the Central Bank's at the end of 2015, just before the election of center-right President Mauricio Macri., According to the current government, which opposed former Argentine president Cristina Kirchner, the financial operation caused a loss of hundreds of millions of dollars to Latin America's third-largest economy., former Argentine president Cristina Kirchner's defenders say that the issue cannot be taken to court as the issue concerns disagreements over monetary policy aimed at maintaining the value of the peso., former Argentine president Cristina Kirchner appeared in court in mid-April, where former Argentine president Cristina Kirchner refused to answer questions and instead presented a document demanding Federal Judge Claudio Bonadio's dismissal.]</td>\n",
       "      <td>[[{'text': 'Cristina Kirchner', 'label': 'PERSON'}, {'text': 'the Central Bank's', 'label': 'ORG'}], [{'text': 'Claudio Bonadio', 'label': 'PERSON'}, {'text': 'pesos', 'label': 'ORG'}, {'text': 'Cristina Kirchner', 'label': 'PERSON'}], [{'text': 'Claudio Bonadio', 'label': 'PERSON'}, {'text': 'Axel Kicillof', 'label': 'PERSON'}, {'text': 'Cristina Kirchner', 'label': 'PERSON'}, {'text': 'the Central Bank's', 'label': 'ORG'}, {'text': 'Alejandro Vanoli', 'label': 'PERSON'}, {'text': 'the Central Bank's's', 'label': 'ORG'}], [{'text': 'Kirchner', 'label': 'PERSON'}, {'text': 'the Central Bank's', 'label': 'ORG'}, {'text': 'Mauricio Macri', 'label': 'PERSON'}], [{'text': 'Cristina Kirchner', 'label': 'PERSON'}], [{'text': 'Cristina Kirchner', 'label': 'PERSON'}], [{'text': 'Cristina Kirchner', 'label': 'PERSON'}, {'text': 'Claudio Bonadio', 'label': 'PERSON'}]]</td>\n",
       "      <td>[[0.010904596, 0.9249315, 0.064163685], [0.01517523, 0.7857933, 0.19903131], [0.057434384, 0.670562, 0.27200356], [0.012652894, 0.9544133, 0.032933883], [0.013613442, 0.95278156, 0.03360502], [0.015513919, 0.9081788, 0.07630731], [0.01125193, 0.94515777, 0.043590296]]</td>\n",
       "    </tr>\n",
       "  </tbody>\n",
       "</table>\n",
       "</div>"
      ],
      "text/plain": [
       "                                                                                                                                                                                                                                                                                                                                                                                                                                                                                                                                                                                                                                                                                                                                                                                                                                                                                                                                                                                                                                                                                                                                                                                                                                                                                                                                                                                                                                                                                                                                                                                                                                                                                                                                                                sentences  \\\n",
       "0  [Buenos Aires, Argentina: Assets belonging to former Argentine president Cristina Kirchner were frozen Friday after former Argentine president Cristina Kirchner was charged with damaging national finances by manipulating the Central Bank's exchange operations during former Argentine president Cristina Kirchner's last months in office., Federal Judge Claudio Bonadio ordered assets worth 15 million pesos' ($1 million) held by former Argentine president Cristina Kirchner to be frozen., Federal Judge Claudio Bonadio delivered the same charge and asset freeze against Axel Kicillof, former Argentine president Cristina Kirchner's minister of the economy from 2013 to 2015, and against former the Central Bank's president Alejandro Vanoli and 12 other former members of the Central Bank's's board., Kirchner, who held office from 2007 to 2015, is accused of having caused a loss in monetary authority through speculative dollar sales by the Central Bank's at the end of 2015, just before the election of center-right President Mauricio Macri., According to the current government, which opposed former Argentine president Cristina Kirchner, the financial operation caused a loss of hundreds of millions of dollars to Latin America's third-largest economy., former Argentine president Cristina Kirchner's defenders say that the issue cannot be taken to court as the issue concerns disagreements over monetary policy aimed at maintaining the value of the peso., former Argentine president Cristina Kirchner appeared in court in mid-April, where former Argentine president Cristina Kirchner refused to answer questions and instead presented a document demanding Federal Judge Claudio Bonadio's dismissal.]   \n",
       "\n",
       "                                                                                                                                                                                                                                                                                                                                                                                                                                                                                                                                                                                                                                                                                                                                                                                                                                                                                                 entities  \\\n",
       "0  [[{'text': 'Cristina Kirchner', 'label': 'PERSON'}, {'text': 'the Central Bank's', 'label': 'ORG'}], [{'text': 'Claudio Bonadio', 'label': 'PERSON'}, {'text': 'pesos', 'label': 'ORG'}, {'text': 'Cristina Kirchner', 'label': 'PERSON'}], [{'text': 'Claudio Bonadio', 'label': 'PERSON'}, {'text': 'Axel Kicillof', 'label': 'PERSON'}, {'text': 'Cristina Kirchner', 'label': 'PERSON'}, {'text': 'the Central Bank's', 'label': 'ORG'}, {'text': 'Alejandro Vanoli', 'label': 'PERSON'}, {'text': 'the Central Bank's's', 'label': 'ORG'}], [{'text': 'Kirchner', 'label': 'PERSON'}, {'text': 'the Central Bank's', 'label': 'ORG'}, {'text': 'Mauricio Macri', 'label': 'PERSON'}], [{'text': 'Cristina Kirchner', 'label': 'PERSON'}], [{'text': 'Cristina Kirchner', 'label': 'PERSON'}], [{'text': 'Cristina Kirchner', 'label': 'PERSON'}, {'text': 'Claudio Bonadio', 'label': 'PERSON'}]]   \n",
       "\n",
       "                                                                                                                                                                                                                                                                    pos_neg_neu  \n",
       "0  [[0.010904596, 0.9249315, 0.064163685], [0.01517523, 0.7857933, 0.19903131], [0.057434384, 0.670562, 0.27200356], [0.012652894, 0.9544133, 0.032933883], [0.013613442, 0.95278156, 0.03360502], [0.015513919, 0.9081788, 0.07630731], [0.01125193, 0.94515777, 0.043590296]]  "
      ]
     },
     "execution_count": 6,
     "metadata": {},
     "output_type": "execute_result"
    }
   ],
   "source": [
    "news_analyzer([text])"
   ]
  },
  {
   "cell_type": "code",
   "execution_count": 7,
   "id": "33e4923e",
   "metadata": {},
   "outputs": [
    {
     "name": "stdout",
     "output_type": "stream",
     "text": [
      "['Austin Jermaine Wiley (born January 8, 1999) is an American basketball player. Austin Jermaine Wiley currently plays for the Auburn Tigers in the Southeasterns. Austin Jermaine Wiley was disqualified due drug trafficking.']\n"
     ]
    },
    {
     "data": {
      "text/html": [
       "<div>\n",
       "<style scoped>\n",
       "    .dataframe tbody tr th:only-of-type {\n",
       "        vertical-align: middle;\n",
       "    }\n",
       "\n",
       "    .dataframe tbody tr th {\n",
       "        vertical-align: top;\n",
       "    }\n",
       "\n",
       "    .dataframe thead th {\n",
       "        text-align: right;\n",
       "    }\n",
       "</style>\n",
       "<table border=\"1\" class=\"dataframe\">\n",
       "  <thead>\n",
       "    <tr style=\"text-align: right;\">\n",
       "      <th></th>\n",
       "      <th>sentences</th>\n",
       "      <th>pos_neg_neu</th>\n",
       "    </tr>\n",
       "  </thead>\n",
       "  <tbody>\n",
       "    <tr>\n",
       "      <th>0</th>\n",
       "      <td>[Austin Jermaine Wiley was disqualified due drug trafficking.]</td>\n",
       "      <td>[[0.018377488, 0.8473633, 0.13425927]]</td>\n",
       "    </tr>\n",
       "  </tbody>\n",
       "</table>\n",
       "</div>"
      ],
      "text/plain": [
       "                                                        sentences  \\\n",
       "0  [Austin Jermaine Wiley was disqualified due drug trafficking.]   \n",
       "\n",
       "                              pos_neg_neu  \n",
       "0  [[0.018377488, 0.8473633, 0.13425927]]  "
      ]
     },
     "execution_count": 7,
     "metadata": {},
     "output_type": "execute_result"
    }
   ],
   "source": [
    "sentiment([\"Austin Jermaine Wiley (born January 8, 1999) is an American basketball player. He currently plays for the Auburn Tigers in the Southeasterns. He was disqualified due drug trafficking.\"])"
   ]
  },
  {
   "cell_type": "code",
   "execution_count": 10,
   "id": "d4e91450",
   "metadata": {},
   "outputs": [
    {
     "data": {
      "text/plain": [
       "['Ram hates India. Ram also hates Pakistan. Ram loves America though. Ram is currently serving in the American army.']"
      ]
     },
     "execution_count": 10,
     "metadata": {},
     "output_type": "execute_result"
    }
   ],
   "source": [
    "coref_res(['Ram hates India. He also hates Pakistan. He loves America though. He is currently serving in the American army.'])"
   ]
  },
  {
   "cell_type": "code",
   "execution_count": 21,
   "id": "f316ece4",
   "metadata": {},
   "outputs": [
    {
     "name": "stdout",
     "output_type": "stream",
     "text": [
      "[[[0, 0], [4, 4]]]\n"
     ]
    },
    {
     "data": {
      "text/plain": [
       "'Ram dislikes icecream. Ram also dislikes chocolate.'"
      ]
     },
     "execution_count": 21,
     "metadata": {},
     "output_type": "execute_result"
    }
   ],
   "source": [
    "text = \"He dislikes icecream. Ram also dislikes chocolate.\"\n",
    "prediction = predictor.predict(document=text)\n",
    "clusters = prediction['clusters']\n",
    "print(clusters)\n",
    "doc = nlp(text)\n",
    "coref_resolved_improved(doc,clusters)"
   ]
  },
  {
   "cell_type": "code",
   "execution_count": null,
   "id": "8e15fa93",
   "metadata": {},
   "outputs": [],
   "source": []
  },
  {
   "cell_type": "code",
   "execution_count": null,
   "id": "5bcb6a68",
   "metadata": {},
   "outputs": [],
   "source": []
  },
  {
   "cell_type": "code",
   "execution_count": null,
   "id": "01687ce3",
   "metadata": {},
   "outputs": [],
   "source": []
  }
 ],
 "metadata": {
  "kernelspec": {
   "display_name": "Python 3 (ipykernel)",
   "language": "python",
   "name": "python3"
  },
  "language_info": {
   "codemirror_mode": {
    "name": "ipython",
    "version": 3
   },
   "file_extension": ".py",
   "mimetype": "text/x-python",
   "name": "python",
   "nbconvert_exporter": "python",
   "pygments_lexer": "ipython3",
   "version": "3.9.12"
  }
 },
 "nbformat": 4,
 "nbformat_minor": 5
}
